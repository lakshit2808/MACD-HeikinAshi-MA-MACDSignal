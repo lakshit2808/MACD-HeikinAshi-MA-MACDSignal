{
 "cells": [
  {
   "cell_type": "code",
   "execution_count": 6,
   "metadata": {},
   "outputs": [],
   "source": [
    "import matplotlib.pyplot as plt\n",
    "import pandas as pd"
   ]
  },
  {
   "cell_type": "markdown",
   "metadata": {},
   "source": [
    "## Heikin Ashi"
   ]
  },
  {
   "cell_type": "code",
   "execution_count": 7,
   "metadata": {},
   "outputs": [],
   "source": [
    "def HeikinAshi(df_HA):\n",
    "    HAdf = df_HA[['open', 'high', 'low', 'close']]\n",
    "    \n",
    "    #Closing\n",
    "    HAdf['close'] = round(((df_HA['open'] + df_HA['high'] + df_HA['low'] + df_HA['close'])/4),2)\n",
    "    \n",
    "    #Opening\n",
    "    for i in range(len(df_HA)):\n",
    "        if i == 0:\n",
    "            HAdf.iat[0,0] = round(((df_HA['open'].iloc[0] + df_HA['close'].iloc[0])/2),2)\n",
    "        else:\n",
    "            HAdf.iat[i,0] = round(((HAdf.iat[i-1,0] + HAdf.iat[i-1,3])/2),2)\n",
    "            \n",
    "    #High & Low\n",
    "    HAdf['high'] = HAdf.loc[:,['open', 'close']].join(df_HA['high']).max(axis=1)\n",
    "    HAdf['low'] = HAdf.loc[:,['open', 'close']].join(df_HA['low']).min(axis=1)\n",
    "    \n",
    "    return HAdf.close"
   ]
  },
  {
   "cell_type": "markdown",
   "metadata": {},
   "source": [
    "## Moving Average"
   ]
  },
  {
   "cell_type": "code",
   "execution_count": 8,
   "metadata": {},
   "outputs": [],
   "source": [
    "def MovingAverage(df_close, length=11):\n",
    "    movAve = df_close.rolling(window = length).mean()\n",
    "    return movAve"
   ]
  },
  {
   "cell_type": "markdown",
   "metadata": {},
   "source": [
    "## MACD"
   ]
  },
  {
   "cell_type": "code",
   "execution_count": 28,
   "metadata": {},
   "outputs": [],
   "source": [
    "def MACD(df_macd, fast_length = 12, slow_length = 26, signal_smoothing = 9):\n",
    "    FASTLENGTH = df_macd['HeikinAshi'].ewm(span=fast_length, adjust= False).mean()\n",
    "    SLOWLENGTH = df_macd['HeikinAshi'].ewm(span=slow_length , adjust= False).mean()\n",
    "    MACD = FASTLENGTH - SLOWLENGTH # GREEN\n",
    "    SIGNAL = MACD.ewm(span=signal_smoothing , adjust= False).mean() # RED \n",
    "      \n",
    "    return MACD, SIGNAL"
   ]
  },
  {
   "cell_type": "markdown",
   "metadata": {},
   "source": [
    "## MACD SIGNALS"
   ]
  },
  {
   "cell_type": "code",
   "execution_count": 10,
   "metadata": {},
   "outputs": [],
   "source": [
    "def SignalFromMACD(data):\n",
    "    Buy,Sell = [],[]\n",
    "    for i in range(2 , len(data)):\n",
    "        if data.MACD.iloc[i] > data.SIGNAL.iloc[i] and data.MACD.iloc[i-1] < data.SIGNAL.iloc[i-1]:\n",
    "            Buy.append(i)\n",
    "        if data.MACD.iloc[i] < data.SIGNAL.iloc[i] and data.MACD.iloc[i-1] > data.SIGNAL.iloc[i-1]:\n",
    "            Sell.append(i)\n",
    "            \n",
    "    return Buy,Sell"
   ]
  },
  {
   "cell_type": "markdown",
   "metadata": {},
   "source": [
    "## Data Stream"
   ]
  },
  {
   "cell_type": "code",
   "execution_count": 11,
   "metadata": {},
   "outputs": [],
   "source": [
    "dfd = pd.read_csv('data.csv', index_col=False)[201:400]"
   ]
  },
  {
   "cell_type": "markdown",
   "metadata": {},
   "source": [
    "### Removing Index"
   ]
  },
  {
   "cell_type": "code",
   "execution_count": 12,
   "metadata": {},
   "outputs": [],
   "source": [
    "dfd.reset_index(drop=True, inplace=True)"
   ]
  },
  {
   "cell_type": "markdown",
   "metadata": {},
   "source": [
    "## Heikin Ashi & Moving Average to DataFrame"
   ]
  },
  {
   "cell_type": "code",
   "execution_count": 13,
   "metadata": {
    "scrolled": true
   },
   "outputs": [
    {
     "name": "stderr",
     "output_type": "stream",
     "text": [
      "<ipython-input-7-a020064f262b>:5: SettingWithCopyWarning: \n",
      "A value is trying to be set on a copy of a slice from a DataFrame.\n",
      "Try using .loc[row_indexer,col_indexer] = value instead\n",
      "\n",
      "See the caveats in the documentation: https://pandas.pydata.org/pandas-docs/stable/user_guide/indexing.html#returning-a-view-versus-a-copy\n",
      "  HAdf['close'] = round(((df_HA['open'] + df_HA['high'] + df_HA['low'] + df_HA['close'])/4),2)\n",
      "<ipython-input-7-a020064f262b>:15: SettingWithCopyWarning: \n",
      "A value is trying to be set on a copy of a slice from a DataFrame.\n",
      "Try using .loc[row_indexer,col_indexer] = value instead\n",
      "\n",
      "See the caveats in the documentation: https://pandas.pydata.org/pandas-docs/stable/user_guide/indexing.html#returning-a-view-versus-a-copy\n",
      "  HAdf['high'] = HAdf.loc[:,['open', 'close']].join(df_HA['high']).max(axis=1)\n",
      "<ipython-input-7-a020064f262b>:16: SettingWithCopyWarning: \n",
      "A value is trying to be set on a copy of a slice from a DataFrame.\n",
      "Try using .loc[row_indexer,col_indexer] = value instead\n",
      "\n",
      "See the caveats in the documentation: https://pandas.pydata.org/pandas-docs/stable/user_guide/indexing.html#returning-a-view-versus-a-copy\n",
      "  HAdf['low'] = HAdf.loc[:,['open', 'close']].join(df_HA['low']).min(axis=1)\n"
     ]
    }
   ],
   "source": [
    "HA = HeikinAshi(dfd)\n",
    "MA = MovingAverage(HA)\n",
    "\n",
    "data = {'HeikinAshi': HA,\"MovingAverage\":MA}\n",
    "df = pd.DataFrame(data)"
   ]
  },
  {
   "cell_type": "markdown",
   "metadata": {},
   "source": [
    "## MACD to DataFrame"
   ]
  },
  {
   "cell_type": "code",
   "execution_count": 39,
   "metadata": {},
   "outputs": [],
   "source": [
    "df['MACD'] = MACD(df)[0]\n",
    "df['SIGNAL'] = MACD(df)[1]"
   ]
  },
  {
   "cell_type": "markdown",
   "metadata": {},
   "source": [
    "## Buy - Sell Signals"
   ]
  },
  {
   "cell_type": "code",
   "execution_count": 16,
   "metadata": {},
   "outputs": [],
   "source": [
    "BuyPrice = df.iloc[SignalFromMACD(df)[0]].HeikinAshi\n",
    "SellPrice = df.iloc[SignalFromMACD(df)[1]].HeikinAshi\n",
    "\n",
    "BuyIndex = SignalFromMACD(df)[0]\n",
    "SellIndex = SignalFromMACD(df)[1]"
   ]
  },
  {
   "cell_type": "markdown",
   "metadata": {},
   "source": [
    "## Visualization"
   ]
  },
  {
   "cell_type": "code",
   "execution_count": 17,
   "metadata": {},
   "outputs": [
    {
     "data": {
      "text/plain": [
       "<matplotlib.collections.PathCollection at 0x20e0bc53310>"
      ]
     },
     "execution_count": 17,
     "metadata": {},
     "output_type": "execute_result"
    },
    {
     "data": {
      "image/png": "[encoded data removed]",
      "text/plain": [
       "<Figure size 864x504 with 1 Axes>"
      ]
     },
     "metadata": {
      "needs_background": "light"
     },
     "output_type": "display_data"
    }
   ],
   "source": [
    "df.HeikinAshi.plot(figsize=(12,7))\n",
    "df.MovingAverage.plot()\n",
    "plt.scatter(BuyIndex,BuyPrice, marker =\"^\", color = 'green')\n",
    "plt.scatter(SellIndex,SellPrice, marker =\"*\", color = 'red')"
   ]
  }
 ],
 "metadata": {
  "kernelspec": {
   "display_name": "Python 3",
   "language": "python",
   "name": "python3"
  },
  "language_info": {
   "codemirror_mode": {
    "name": "ipython",
    "version": 3
   },
   "file_extension": ".py",
   "mimetype": "text/x-python",
   "name": "python",
   "nbconvert_exporter": "python",
   "pygments_lexer": "ipython3",
   "version": "3.8.5"
  }
 },
 "nbformat": 4,
 "nbformat_minor": 4
}
